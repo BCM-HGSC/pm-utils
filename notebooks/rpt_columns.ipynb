{
 "cells": [
  {
   "cell_type": "markdown",
   "metadata": {},
   "source": [
    "## Input"
   ]
  },
  {
   "cell_type": "code",
   "execution_count": null,
   "metadata": {
    "collapsed": true
   },
   "outputs": [],
   "source": [
    "SE_ONLY_COLS = [\n",
    "    # construct lane_barcode\n",
    "    'flowcell_id',\n",
    "    'lane_num',\n",
    "    'index_id',\n",
    "    'collaborator_sample_id',\n",
    "    'sample_internal_id',  # rename to sample_id\n",
    "    'unique_aligned',  # calculate unique_aligned_gb\n",
    "    # dates\n",
    "    'flowcell_create_date'\n",
    "    'run_start_date',\n",
    "    'run_finished_date',\n",
    "    'analysis_start_date',\n",
    "    'bwa_analysis_finished_date',\n",
    "    'analysis_finished_date',  # checking for completion \n",
    "]"
   ]
  },
  {
   "cell_type": "code",
   "execution_count": null,
   "metadata": {
    "collapsed": true
   },
   "outputs": [],
   "source": [
    "MERGE_ONLY_COLS = [\n",
    "    \"unique_aligned_bases\",  # internal qc only\n",
    "    \"merge_name\",\n",
    "    \"merge_finished_date\",\n",
    "]"
   ]
  },
  {
   "cell_type": "code",
   "execution_count": null,
   "metadata": {
    "collapsed": true
   },
   "outputs": [],
   "source": [
    "# TODO: better name for constants\n",
    "INTERSECT_COLS = [\n",
    "    \"results_path\",\n",
    "    \"average_coverage\",\n",
    "    \"aligned_bases_pct\",  # internal qc only\n",
    "    \"chimeric_rate\",  # internal qc only\n",
    "    \"per_ten_coverage_bases\",\n",
    "    \"per_twenty_coverage_bases\",\n",
    "    \"q20_bases\",\n",
    "    \"contamination_rate\",\n",
    "]"
   ]
  },
  {
   "cell_type": "code",
   "execution_count": null,
   "metadata": {
    "collapsed": true
   },
   "outputs": [],
   "source": [
    "NM_COLS = [\n",
    "    \"mean_insert_size\",  # corrected column name & value in Exemplar LIMS\n",
    "    \"pf_hq_aligned_q20_bases\",\n",
    "    \"wgs_het_snp_q\",\n",
    "    \"wgs_het_snp_sensitivity\",\n",
    "]"
   ]
  },
  {
   "cell_type": "code",
   "execution_count": null,
   "metadata": {
    "collapsed": true
   },
   "outputs": [],
   "source": [
    "NM_90X_COLS = [\n",
    "    \"per_sixty_coverage_bases\",\n",
    "    \"per_seventy_coverage_bases\",\n",
    "]"
   ]
  },
  {
   "cell_type": "markdown",
   "metadata": {},
   "source": [
    "## Output"
   ]
  },
  {
   "cell_type": "code",
   "execution_count": null,
   "metadata": {
    "collapsed": true
   },
   "outputs": [],
   "source": [
    "WKT3_COLS = [\n",
    "    # report tab3 'Production Metrics'\n",
    "    \"sample_id\",\n",
    "    \"collection\",\n",
    "    \"pf_hq_aligned_q20_bases\",\n",
    "    \"mean_insert_size\",\n",
    "    \"average_coverage\",\n",
    "    \"wgs_het_snp_q\",\n",
    "    \"wgs_het_snp_sensitivity\",\n",
    "    \"per_ten_coverage_bases\",\n",
    "    \"per_twenty_coverage_bases\",\n",
    "    \"q20_bases\",\n",
    "    \"contamination_pct\",\n",
    "]"
   ]
  },
  {
   "cell_type": "code",
   "execution_count": null,
   "metadata": {
    "collapsed": true
   },
   "outputs": [],
   "source": [
    "INTERNAL_QC_COLS = [\n",
    "    # internal qc only\n",
    "    \"unique_aligned_gb\",\n",
    "    \"aligned_bases_pct\",\n",
    "    \"chimeric_rate\",   \n",
    "]"
   ]
  },
  {
   "cell_type": "code",
   "execution_count": null,
   "metadata": {
    "collapsed": true
   },
   "outputs": [],
   "source": [
    "MERGE_NOTE_COLS = [\n",
    "    # jw_note only\n",
    "    \"merge_name\",\n",
    "    \"merge_finished_date\",\n",
    "    \"results_path\",\n",
    "    \"results\",    \n",
    "]"
   ]
  },
  {
   "cell_type": "code",
   "execution_count": null,
   "metadata": {
    "collapsed": true
   },
   "outputs": [],
   "source": [
    "SE_NOTE_COLS = [\n",
    "    # jw_note only\n",
    "    \"lane_barcode\",\n",
    "    \"analysis_finished_date\",\n",
    "    \"results_path\",\n",
    "    \"results\",\n",
    "]"
   ]
  },
  {
   "cell_type": "markdown",
   "metadata": {},
   "source": [
    "## Construct Columns"
   ]
  },
  {
   "cell_type": "code",
   "execution_count": null,
   "metadata": {
    "collapsed": true
   },
   "outputs": [],
   "source": [
    "TMQC_SE_COLS = WKT3_COLS + INTERNAL_QC_COLS + SE_NOTE_COLS"
   ]
  },
  {
   "cell_type": "code",
   "execution_count": null,
   "metadata": {
    "collapsed": true
   },
   "outputs": [],
   "source": [
    "TMQC_SE_COLS"
   ]
  },
  {
   "cell_type": "code",
   "execution_count": null,
   "metadata": {
    "collapsed": true
   },
   "outputs": [],
   "source": [
    "WKT3_COLS"
   ]
  },
  {
   "cell_type": "code",
   "execution_count": null,
   "metadata": {
    "collapsed": true
   },
   "outputs": [],
   "source": [
    "NM_90X_COLS"
   ]
  },
  {
   "cell_type": "code",
   "execution_count": null,
   "metadata": {
    "collapsed": true
   },
   "outputs": [],
   "source": [
    "#1\n",
    "new_var = WKT3_COLS[:]  # make a new copy\n",
    "new_var[-3:-3] = NM_90X_COLS\n",
    "new_var.extend(INTERNAL_QC_COLS)\n",
    "new_var.extend(MERGE_NOTE_COLS)\n",
    "print(len(new_var))\n",
    "new_var"
   ]
  },
  {
   "cell_type": "code",
   "execution_count": null,
   "metadata": {
    "collapsed": true
   },
   "outputs": [],
   "source": [
    "#2\n",
    "new_var = WKT3_COLS[:]  # make a new copy\n",
    "new_var[-3:-3] = NM_90X_COLS\n",
    "new_var += INTERNAL_QC_COLS + MERGE_NOTE_COLS\n",
    "print(len(new_var))\n",
    "new_var"
   ]
  },
  {
   "cell_type": "code",
   "execution_count": null,
   "metadata": {
    "collapsed": true
   },
   "outputs": [],
   "source": [
    "#3\n",
    "new_var = WKT3_COLS[:]  # make a new copy\n",
    "new_var = WKT3_COLS[:-3] + NM_90X_COLS + WKT3_COLS[-3:] + INTERNAL_QC_COLS + MERGE_NOTE_COLS\n",
    "print(len(new_var))\n",
    "new_var"
   ]
  },
  {
   "cell_type": "markdown",
   "metadata": {
    "collapsed": true
   },
   "source": [
    "### Preserve Column Order"
   ]
  },
  {
   "cell_type": "code",
   "execution_count": null,
   "metadata": {
    "collapsed": true
   },
   "outputs": [],
   "source": [
    "# preserved columm order should look like this\n",
    "\n",
    "TMQC_90X_COLS = (\n",
    "    [\n",
    "        # report tab3 'Production Metrics'\n",
    "        \"sample_id\",\n",
    "        \"collection\",\n",
    "        \"pf_hq_aligned_q20_bases\",\n",
    "        \"mean_insert_size\",\n",
    "        \"average_coverage\",\n",
    "        \"wgs_het_snp_q\",\n",
    "        \"wgs_het_snp_sensitivity\",\n",
    "        \"per_ten_coverage_bases\",\n",
    "        \"per_twenty_coverage_bases\",\n",
    "    ]\n",
    "    + NM_90X_COLS\n",
    "    + [\n",
    "        \"q20_bases\",\n",
    "        \"contamination_pct\",\n",
    "        # internal qc only\n",
    "        \"unique_aligned_gb\",\n",
    "        \"aligned_bases_pct\",\n",
    "        \"chimeric_rate\",\n",
    "        # jw_note\n",
    "        \"merge_name\",\n",
    "        \"merge_finished_date\",\n",
    "        \"results_path\",\n",
    "        \"results\",\n",
    "    ]\n",
    ")"
   ]
  },
  {
   "cell_type": "code",
   "execution_count": null,
   "metadata": {
    "collapsed": true
   },
   "outputs": [],
   "source": [
    "TMQC_90X_COLS"
   ]
  },
  {
   "cell_type": "code",
   "execution_count": null,
   "metadata": {
    "collapsed": true
   },
   "outputs": [],
   "source": []
  }
 ],
 "metadata": {
  "kernelspec": {
   "display_name": "Python 3",
   "language": "python",
   "name": "python3"
  },
  "language_info": {
   "codemirror_mode": {
    "name": "ipython",
    "version": 3
   },
   "file_extension": ".py",
   "mimetype": "text/x-python",
   "name": "python",
   "nbconvert_exporter": "python",
   "pygments_lexer": "ipython3",
   "version": "3.6.6"
  }
 },
 "nbformat": 4,
 "nbformat_minor": 2
}
