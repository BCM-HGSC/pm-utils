{
 "cells": [
  {
   "cell_type": "code",
   "execution_count": null,
   "metadata": {},
   "outputs": [],
   "source": [
    "import re\n",
    "\n",
    "from datetime import date, datetime\n",
    "from pathlib import Path\n",
    "\n",
    "import pandas as pd\n",
    "import numpy as np\n",
    "\n",
    "import janitor"
   ]
  },
  {
   "cell_type": "markdown",
   "metadata": {},
   "source": [
    "## A Failing Test"
   ]
  },
  {
   "cell_type": "code",
   "execution_count": null,
   "metadata": {},
   "outputs": [],
   "source": [
    "MERGE_TEST_CASES = {\n",
    "    # auto merge, standard\n",
    "    \"2020-06-18T160015_ILWGS_TMGCUC_NWD190874_256256_2-FLOWCELL-H2JV7DSXY-H7NFJDSXY-H7NHMDSXY\": (\n",
    "        \"TMGCUC\",\n",
    "        \"NWD190874\",\n",
    "    ),\n",
    "    # special\n",
    "    \"NWD282009-LIB-ILWGS_TMGCUC_NWD282009_242134_2-ILWGS_TMGCUC_NWD282009_242134_3\": (\n",
    "        \"TMGCUC\",\n",
    "        \"NWD282009\",\n",
    "    ),\n",
    "    # special\n",
    "    \"NWD718492-LIB-ILWGS_TMGCUC_NWD718492_242146_2\": (\n",
    "        \"TMGCUC\",\n",
    "        \"NWD718492\",\n",
    "    ),\n",
    "    # special\n",
    "    \"TMGCUC.NWD438629-1_2AMP-FLOWCELL-HNL7HDSXX-HWHLTDSXX-HMWGFDSXX\": (\n",
    "        \"TMGCUC\",\n",
    "        \"NWD438629\",\n",
    "    ),\n",
    "    # Control, standard\n",
    "    \"2020-02-19T080013_ILWGS_Legacy_NWD628172_246024_2-FLOWCELL-H2CFFDSXY-H2J2VDSXY\": (\n",
    "        \"Legacy\",\n",
    "        \"NWD628172\",\n",
    "    ),\n",
    "    # Control, standard\n",
    "    \"2019-06-09T083135_ILWGS_TMCONT_NWD687974_238352_1-FLOWCELL-HKT7JDSXX-HL2JKDSXX\": (\n",
    "        \"TMCONT\",\n",
    "        \"NWD687974\",\n",
    "    ),\n",
    "    # Control, special\n",
    "    \"TMCONT.NWD218413-1_1AMP-FLOWCELL-HF7CFCCXY-HCW7LCCXY-HFFLFCCXY-HFGK2CCXY\": (\n",
    "        \"TMCONT\",\n",
    "        \"NWD218413\",\n",
    "    ),\n",
    "    \"\": (None, None),\n",
    "}\n",
    "\n",
    "MERGE_TEST_CASES"
   ]
  },
  {
   "cell_type": "code",
   "execution_count": null,
   "metadata": {},
   "outputs": [],
   "source": [
    "def test_parser(parser):\n",
    "    for merge_name in MERGE_TEST_CASES:\n",
    "        result = parser(merge_name)\n",
    "        if result == MERGE_TEST_CASES[merge_name]:\n",
    "            print(f\"PASS: {merge_name!r} -> {result!r}\")\n",
    "        else:\n",
    "            print(f\"FAIL: {merge_name!r} -> {result!r}\")  "
   ]
  },
  {
   "cell_type": "code",
   "execution_count": null,
   "metadata": {},
   "outputs": [],
   "source": [
    "try:\n",
    "    test_parser(get_cohort_and_sample_id)\n",
    "except Exception as e:\n",
    "    print(e)"
   ]
  },
  {
   "cell_type": "markdown",
   "metadata": {},
   "source": [
    "## Patterns"
   ]
  },
  {
   "cell_type": "code",
   "execution_count": null,
   "metadata": {},
   "outputs": [],
   "source": [
    "merge_1 = \"2020-06-18T160015_ILWGS_TMGCUC_NWD190874_256256_2-FLOWCELL-H2JV7DSXY-H7NFJDSXY-H7NHMDSXY\"\n",
    "merge_2 = \"NWD282009-LIB-ILWGS_TMGCUC_NWD282009_242134_2-ILWGS_TMGCUC_NWD282009_242134_3\"\n",
    "merge_3 = \"NWD718492-LIB-ILWGS_TMGCUC_NWD718492_242146_2\"\n",
    "merge_4 = \"TMGCUC.NWD438629-1_2AMP-FLOWCELL-HNL7HDSXX-HWHLTDSXX-HMWGFDSXX\"\n",
    "merge_5 = \"2020-02-19T080013_ILWGS_Legacy_NWD628172_246024_2-FLOWCELL-H2CFFDSXY-H2J2VDSXY\""
   ]
  },
  {
   "cell_type": "code",
   "execution_count": null,
   "metadata": {},
   "outputs": [],
   "source": [
    "merge_bad = \"hello-there-world_TMGCUC_NWD190874_absolutely-anything-can-go-here1233\""
   ]
  },
  {
   "cell_type": "code",
   "execution_count": null,
   "metadata": {},
   "outputs": [],
   "source": [
    "TIMESTAMP_PAT = r\"\\d{4}-\\d\\d-\\d\\dT\\d{4,6}\"\n",
    "PROJECT_PAT = r\"Legacy|TM[A-Z]{4}\"\n",
    "SAMPLE_PAT = r\"NWD\\d{6}\"\n",
    "SEQUENCE_PAT = r\"\\d{6}_\\d\"\n",
    "FLOWCELL_PAT = r\"[A-Z0-9]{9}\"\n",
    "LIB_PAT = fr\"(IL[A-Z]{{3}})_({PROJECT_PAT})_({SAMPLE_PAT})_{SEQUENCE_PAT}\"\n",
    "\n",
    "MERGE_PAT_STANDARD = re.compile(\n",
    "    f\"(?:{TIMESTAMP_PAT})_{LIB_PAT}-FLOWCELL(?:(?:-{FLOWCELL_PAT})+)$\"\n",
    ")\n",
    "MERGE_PAT_SPECIAL = re.compile(f\"({SAMPLE_PAT})-LIB((?:-{LIB_PAT})+)\")\n",
    "MERGE_PAT_NEW = re.compile(\n",
    "    fr\"({PROJECT_PAT})\\.({SAMPLE_PAT})-\\d_\\dAMP-FLOWCELL(?:(?:-{FLOWCELL_PAT})+)$\"\n",
    ")"
   ]
  },
  {
   "cell_type": "code",
   "execution_count": null,
   "metadata": {},
   "outputs": [],
   "source": [
    "m = MERGE_PAT_NEW.match(merge_4)\n",
    "m"
   ]
  },
  {
   "cell_type": "code",
   "execution_count": null,
   "metadata": {},
   "outputs": [],
   "source": [
    "m.groups()"
   ]
  },
  {
   "cell_type": "code",
   "execution_count": null,
   "metadata": {},
   "outputs": [],
   "source": [
    "m = MERGE_PAT_STANDARD.match(merge_5)\n",
    "m"
   ]
  },
  {
   "cell_type": "code",
   "execution_count": null,
   "metadata": {},
   "outputs": [],
   "source": [
    "m.groups()"
   ]
  },
  {
   "cell_type": "code",
   "execution_count": null,
   "metadata": {},
   "outputs": [],
   "source": [
    "m = MERGE_PAT_SPECIAL.match(merge_2)"
   ]
  },
  {
   "cell_type": "code",
   "execution_count": null,
   "metadata": {},
   "outputs": [],
   "source": [
    "sample, libs_string = m.groups()[:2]\n",
    "sample, libs_string"
   ]
  },
  {
   "cell_type": "code",
   "execution_count": null,
   "metadata": {},
   "outputs": [],
   "source": [
    "lib_strings = libs_string.split(\"-\")[1:]\n",
    "lib_strings"
   ]
  },
  {
   "cell_type": "code",
   "execution_count": null,
   "metadata": {},
   "outputs": [],
   "source": [
    "decoded = [re.match(LIB_PAT, l).groups() for l in lib_strings]\n",
    "decoded"
   ]
  },
  {
   "cell_type": "code",
   "execution_count": null,
   "metadata": {},
   "outputs": [],
   "source": [
    "samples = [sample] + [d[2] for d in decoded]"
   ]
  },
  {
   "cell_type": "code",
   "execution_count": null,
   "metadata": {},
   "outputs": [],
   "source": [
    "set(samples)"
   ]
  },
  {
   "cell_type": "code",
   "execution_count": null,
   "metadata": {},
   "outputs": [],
   "source": [
    "library_types = set(d[0] for d in decoded)"
   ]
  },
  {
   "cell_type": "code",
   "execution_count": null,
   "metadata": {},
   "outputs": [],
   "source": [
    "library_types"
   ]
  },
  {
   "cell_type": "code",
   "execution_count": null,
   "metadata": {},
   "outputs": [],
   "source": [
    "projects = set(d[1] for d in decoded)"
   ]
  },
  {
   "cell_type": "code",
   "execution_count": null,
   "metadata": {},
   "outputs": [],
   "source": [
    "projects"
   ]
  },
  {
   "cell_type": "code",
   "execution_count": null,
   "metadata": {},
   "outputs": [],
   "source": [
    "import logging"
   ]
  },
  {
   "cell_type": "code",
   "execution_count": null,
   "metadata": {},
   "outputs": [],
   "source": [
    "logger = logging.getLogger(\"pm_utils\")"
   ]
  },
  {
   "cell_type": "code",
   "execution_count": null,
   "metadata": {},
   "outputs": [],
   "source": [
    "logger.error(\"ugh\")"
   ]
  },
  {
   "cell_type": "markdown",
   "metadata": {},
   "source": [
    "## Implementation"
   ]
  },
  {
   "cell_type": "code",
   "execution_count": null,
   "metadata": {},
   "outputs": [],
   "source": [
    "def standard_merge_rule(merge_name: str) -> tuple:\n",
    "    m = MERGE_PAT_STANDARD.match(merge_name)\n",
    "    if not m:\n",
    "        return None, None\n",
    "    _, project, sample = m.groups()\n",
    "    return project, sample\n",
    "\n",
    "\n",
    "def special_merge_rule(merge_name: str) -> tuple:\n",
    "    m = MERGE_PAT_SPECIAL.match(merge_name)\n",
    "    if not m:\n",
    "        return None, None\n",
    "    sample, libs_string = m.groups()[:2]\n",
    "    lib_strings = libs_string.split(\"-\")[1:]\n",
    "    decoded = [re.match(LIB_PAT, l).groups() for l in lib_strings]\n",
    "    library_types = set(d[0] for d in decoded)\n",
    "    projects = set(d[1] for d in decoded)\n",
    "    samples = set([sample] + [d[2] for d in decoded])\n",
    "    errors = False\n",
    "    if len(library_types) > 1:\n",
    "        logger.error(f\"inconsistent library types {library_types} in {merge_name}\")\n",
    "        errors = True\n",
    "    if len(projects) > 1:\n",
    "        logger.error(f\"inconsistent projects {projects} in {merge_name}\")\n",
    "        errors = True\n",
    "    if len(samples) > 1:\n",
    "        logger.error(f\"inconsistent samples {samples} in {merge_name}\")\n",
    "        errors = True\n",
    "    if errors:\n",
    "        return None, None\n",
    "    return projects.pop(), samples.pop()\n",
    "\n",
    "\n",
    "def new_merge_rule(merge_name: str) -> tuple:\n",
    "    m = MERGE_PAT_NEW.match(merge_name)\n",
    "    if not m:\n",
    "        return None, None\n",
    "    project, sample = m.groups()\n",
    "    return project, sample\n",
    "\n",
    "\n",
    "RULES = [standard_merge_rule, special_merge_rule, new_merge_rule]\n",
    "\n",
    "\n",
    "def decode_merge_name(merge_name: str) -> tuple:\n",
    "    for rule in RULES:\n",
    "        project, sample = rule(merge_name)\n",
    "        if project:\n",
    "            return project, sample\n",
    "    logger.error(f\"Cannot decode merge name '{merge_name}'\")\n",
    "    return None, None"
   ]
  },
  {
   "cell_type": "code",
   "execution_count": null,
   "metadata": {},
   "outputs": [],
   "source": [
    "decode_merge_name(merge_1)"
   ]
  },
  {
   "cell_type": "code",
   "execution_count": null,
   "metadata": {},
   "outputs": [],
   "source": [
    "decode_merge_name(merge_2)"
   ]
  },
  {
   "cell_type": "code",
   "execution_count": null,
   "metadata": {},
   "outputs": [],
   "source": [
    "decode_merge_name(merge_3)"
   ]
  },
  {
   "cell_type": "code",
   "execution_count": null,
   "metadata": {},
   "outputs": [],
   "source": [
    "decode_merge_name(merge_4)"
   ]
  },
  {
   "cell_type": "code",
   "execution_count": null,
   "metadata": {},
   "outputs": [],
   "source": [
    "decode_merge_name(merge_5)"
   ]
  },
  {
   "cell_type": "code",
   "execution_count": null,
   "metadata": {},
   "outputs": [],
   "source": [
    "decode_merge_name(merge_bad)"
   ]
  },
  {
   "cell_type": "code",
   "execution_count": null,
   "metadata": {},
   "outputs": [],
   "source": [
    "decode_merge_name(\"NWD282009-LIB-ILWGS_TMGCUC_NWD282009_242134_2-ILWES_TMGCUC_NWD282009_242134_3\")"
   ]
  },
  {
   "cell_type": "code",
   "execution_count": null,
   "metadata": {},
   "outputs": [],
   "source": [
    "test_parser(decode_merge_name)"
   ]
  },
  {
   "cell_type": "code",
   "execution_count": null,
   "metadata": {},
   "outputs": [],
   "source": []
  }
 ],
 "metadata": {
  "kernelspec": {
   "display_name": "Python 3",
   "language": "python",
   "name": "python3"
  },
  "language_info": {
   "codemirror_mode": {
    "name": "ipython",
    "version": 3
   },
   "file_extension": ".py",
   "mimetype": "text/x-python",
   "name": "python",
   "nbconvert_exporter": "python",
   "pygments_lexer": "ipython3",
   "version": "3.8.4"
  }
 },
 "nbformat": 4,
 "nbformat_minor": 4
}
